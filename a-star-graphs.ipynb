{
 "cells": [
  {
   "cell_type": "code",
   "execution_count": 1,
   "metadata": {},
   "outputs": [],
   "source": [
    "class Vertex():\n",
    "\tdef __init__(self, name, position, parent = None, distance = 0, visited = False):\n",
    "\t\tself.name = name\n",
    "\t\tself.position = position\n",
    "\t\tself.parent = parent\n",
    "\t\tself.distance = distance\n",
    "\t\tself.visited = visited\n",
    "\n",
    "def a_star(vertices_map, edges_map, start, end):\n",
    "\tpath = []\n",
    "\ttotal = None\n",
    "\tnext_list = [start]\n",
    "\n",
    "\twhile len(next_list) > 0:\n",
    "\t\tcurrent = min(next_list, key=lambda e: e.distance)\n",
    "\t\tcurrent.visited = True\n",
    "\t\tnext_list.remove(current)\n",
    "\n",
    "\t\tif path and total <= current.distance:\n",
    "\t\t\tcontinue\n",
    "\t\tif current.position == end.position:\n",
    "\t\t\tpath = []\n",
    "\t\t\ttotal = current.distance\n",
    "\t\t\twhile current:\n",
    "\t\t\t\tpath.append(current.position)\n",
    "\t\t\t\tcurrent = current.parent\n",
    "\t\t\tcontinue\n",
    "\n",
    "\t\tfor edge in edges_map[current.name]:\n",
    "\t\t\tnew_vertex = vertices_map[edge[0]]\n",
    "\t\t\tif new_vertex == end:\n",
    "\t\t\t\tnew_vertex = Vertex(None, end.position)\n",
    "\t\t\tif not new_vertex.visited:\n",
    "\t\t\t\tnew_vertex.parent = current\n",
    "\t\t\t\tnew_vertex.distance = current.distance + edge[1]\n",
    "\t\t\t\tnext_list.append(new_vertex)\n",
    "\t\t\n",
    "\treturn '-'.join([c[2] for c in path[::-1]]) + ' (total: %d)' % total\n",
    "\n",
    "def a_star_list(vertices_list, edges_list, start_char, end_char):\n",
    "\tedges_map = {}\n",
    "\tfor edge in edges_list:\n",
    "\t\te1 = edges_map.get(edge[0])\n",
    "\t\tif e1:\n",
    "\t\t\te1.append((edge[1], edge[2]))\n",
    "\t\telse:\n",
    "\t\t\tedges_map[edge[0]] = [(edge[1], edge[2])]\n",
    "\n",
    "\t\te2 = edges_map.get(edge[1])\n",
    "\t\tif e2:\n",
    "\t\t\te2.append((edge[0], edge[2]))\n",
    "\t\telse:\n",
    "\t\t\tedges_map[edge[1]] = [(edge[0], edge[2])]\n",
    "\n",
    "\tstart = end = None\n",
    "\tvertices_map = {}\n",
    "\tfor v in vertices_list:\n",
    "\t\tvertices_map[v[2]] = Vertex(v[2], v)\n",
    "\t\tif v[2] == start_char:\n",
    "\t\t\tstart = vertices_map[v[2]]\n",
    "\t\telif v[2] == end_char:\n",
    "\t\t\tend = vertices_map[v[2]]\n",
    "\treturn a_star(vertices_map, edges_map, start, end)"
   ]
  },
  {
   "cell_type": "code",
   "execution_count": 2,
   "metadata": {},
   "outputs": [
    {
     "data": {
      "text/plain": [
       "'A-B-C-D-E (total: 45)'"
      ]
     },
     "execution_count": 2,
     "metadata": {},
     "output_type": "execute_result"
    }
   ],
   "source": [
    "a_star_list([(0, 0, 'A'),(1, 0, 'B'),(2, 0, 'C'),(2, 1, 'D'),(2, 2, 'E'),(3, 0, 'F'),(3, 2, 'G')],\n",
    "\t\t\t[('A', 'B', 10),('B', 'C', 12),('C', 'D', 15),('D', 'E', 8),('C', 'F', 2),('F', 'G', 20),('G', 'E', 3)],\n",
    "\t\t\t'A', 'E')"
   ]
  },
  {
   "cell_type": "code",
   "execution_count": 3,
   "metadata": {},
   "outputs": [
    {
     "data": {
      "text/plain": [
       "'A-B-D-G-L-M-P-R-T-U-X-Z (total: 1100)'"
      ]
     },
     "execution_count": 3,
     "metadata": {},
     "output_type": "execute_result"
    }
   ],
   "source": [
    "a_star_list([(0, 0, 'A'),(3, 1, 'B'),(8, 1, 'C'),(3, 3, 'D'),(13, 1, 'E'),(16, 3, 'F'),(5, 4, 'G'),(12, 4, 'H'),(20, 5, 'I'),(17, 7, 'J'),(12, 5, 'K'),(7, 6, 'L'),(7, 9, 'M'),(14, 9, 'N'),(19, 10, 'O'),(8, 12, 'P'),(14, 13, 'Q'),(10, 15, 'R'),(3, 17, 'S'),(8, 17, 'T'),(12, 19, 'U'),(7, 21, 'V'),(11, 23, 'W'),(17, 21, 'X'),(24, 24, 'Z')],\n",
    "\t\t\t[('A', 'B', 85),('B', 'C', 125),('B', 'D', 50),('D', 'G', 60),('C', 'E', 125),('G', 'L', 70),('E', 'F', 95),('L', 'M', 75),('F', 'H', 110),('M', 'P', 85),('H', 'K', 25),('N', 'P', 180),('K', 'I', 200),('P', 'R', 135),('I', 'J', 95),('R', 'S', 225),('J', 'N', 95),('S', 'V', 140),('N', 'O', 35),('U', 'V', 145),('O', 'Q', 185),('V', 'W', 120),('Q', 'R', 120),('R', 'T', 70),('T', 'U', 120),('U', 'X', 145),('W', 'Z', 335),('X', 'Z', 205)],\n",
    "\t\t\t'A', 'Z')"
   ]
  }
 ],
 "metadata": {
  "file_extension": ".py",
  "kernelspec": {
   "display_name": "Python 3",
   "language": "python",
   "name": "python3"
  },
  "language_info": {
   "codemirror_mode": {
    "name": "ipython",
    "version": 3
   },
   "file_extension": ".py",
   "mimetype": "text/x-python",
   "name": "python",
   "nbconvert_exporter": "python",
   "pygments_lexer": "ipython3",
   "version": "3.6.5"
  },
  "mimetype": "text/x-python",
  "name": "python",
  "npconvert_exporter": "python",
  "pygments_lexer": "ipython3",
  "version": 3
 },
 "nbformat": 4,
 "nbformat_minor": 2
}
